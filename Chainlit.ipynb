{
  "nbformat": 4,
  "nbformat_minor": 0,
  "metadata": {
    "colab": {
      "provenance": [],
      "gpuType": "T4",
      "authorship_tag": "ABX9TyObv3OxBUi+dyhY+mYFACvR",
      "include_colab_link": true
    },
    "kernelspec": {
      "name": "python3",
      "display_name": "Python 3"
    },
    "language_info": {
      "name": "python"
    },
    "accelerator": "GPU"
  },
  "cells": [
    {
      "cell_type": "markdown",
      "metadata": {
        "id": "view-in-github",
        "colab_type": "text"
      },
      "source": [
        "<a href=\"https://colab.research.google.com/github/duongtran96/Project_LLM/blob/main/Chainlit.ipynb\" target=\"_parent\"><img src=\"https://colab.research.google.com/assets/colab-badge.svg\" alt=\"Open In Colab\"/></a>"
      ]
    },
    {
      "cell_type": "markdown",
      "source": [
        "\n",
        "# Download library **packages**\n",
        "\n"
      ],
      "metadata": {
        "id": "oB2ExrVcOjks"
      }
    },
    {
      "cell_type": "code",
      "execution_count": null,
      "metadata": {
        "id": "7npye0c9FjlI"
      },
      "outputs": [],
      "source": [
        "## Install the necessary library packages\n",
        "!pip install  -q transformers==4.41.2\n",
        "!pip install  -q  bitsandbytes==0.43.1\n",
        "!pip install  -q  accelerate==0.31.0\n",
        "!pip install  -q  langchain==0.2.5\n",
        "!pip install  -q  langchainhub==0.1.20\n",
        "!pip install  -q  langchain-chroma==0.1.1\n",
        "!pip install  -q  langchain-community==0.2.5\n",
        "!pip install  -q  langchain-openai==0.1.9\n",
        "!pip install  -q  langchain_huggingface==0.0.3\n",
        "!pip install  -q  chainlit==1.1.304\n",
        "!pip install  -q  python-dotenv==1.0.1\n",
        "!pip install  -q  pypdf==4.2.0\n",
        "!pip install  -q  numpy==1.24.4\n",
        "!npm install  -g  localtunnel\n",
        "!npm install -g npm"
      ]
    },
    {
      "cell_type": "markdown",
      "source": [
        "# Import the necessary library **packages**"
      ],
      "metadata": {
        "id": "7b_gvPCwObfE"
      }
    },
    {
      "cell_type": "code",
      "source": [
        "## Import the necessary library packages\n",
        "import chainlit as cl\n",
        "import torch\n",
        "from transformers import BitsAndBytesConfig\n",
        "from transformers import AutoTokenizer, AutoModelForCausalLM, pipeline\n",
        "from langchain_huggingface import HuggingFaceEmbeddings\n",
        "from langchain_huggingface.llms import HuggingFacePipeline\n",
        "\n",
        "from langchain.memory import ConversationBufferMemory\n",
        "from langchain_community.chat_message_histories import ChatMessageHistory\n",
        "from langchain_community.document_loaders import PyPDFLoader, TextLoader\n",
        "from langchain.chains import ConversationalRetrievalChain\n",
        "\n",
        "from langchain_chroma import Chroma\n",
        "from langchain_text_splitters import RecursiveCharacterTextSplitter\n",
        "from langchain_core.runnables import RunnablePassthrough\n",
        "from langchain_core.output_parsers import StrOutputParser\n",
        "from langchain import hub\n"
      ],
      "metadata": {
        "id": "2OUxMrY4Gt4X"
      },
      "execution_count": null,
      "outputs": []
    },
    {
      "cell_type": "code",
      "source": [
        "from chainlit.types import AskFileResponse"
      ],
      "metadata": {
        "id": "56bUQ4ZPRGto"
      },
      "execution_count": null,
      "outputs": []
    },
    {
      "cell_type": "code",
      "source": [
        "## Reinstall the functions and instances in the previous file\n",
        "text_splitter = RecursiveCharacterTextSplitter(chunk_size = 1000, chunk_overlap = 100)\n",
        "\n",
        "embedding = HuggingFaceEmbeddings()"
      ],
      "metadata": {
        "id": "qXz3DYhxJW7M"
      },
      "execution_count": null,
      "outputs": []
    },
    {
      "cell_type": "code",
      "source": [
        "## Built function to progress input data\n",
        "def process_file(file: AskFileResponse):\n",
        "    if file.type == \"text/plain\":\n",
        "        Loader = TextLoader\n",
        "    elif file.type == \"application/pdf\":\n",
        "        Loader = PyPDFLoader\n",
        "\n",
        "    loader = Loader(file.path)\n",
        "    documents = loader.load()\n",
        "    docs = text_splitter.split_documents(documents)\n",
        "    for i, doc in enumerate(docs):\n",
        "        doc.metadata[\"source\"] = f\"source_{i}\"\n",
        "    return docs\n",
        "\n",
        "## Built constractor Chroma database\n",
        "def get_vector_db(file: AskFileResponse):\n",
        "    docs = process_file(file)\n",
        "    cl.user_session.set(\"docs\",docs)\n",
        "    vector_db = Chroma.from_documents(documents = docs, embedding = embedding)\n",
        "    return vector_db\n",
        "\n",
        "## Initialize large language model\n",
        "def get_huggingface_llm(model_name : str = 'lmsys/vicuna-7b-v1.5', max_new_token: int = 512):\n",
        "    nf4_config = BitsAndBytesConfig(\n",
        "        load_in_4bit = True,\n",
        "        bnb_4bit_quant_type = \"nf4\",\n",
        "        bnb_4bit_use_double_quant = True,\n",
        "        bnb_4bit_compute_dtype = torch.bfloat16\n",
        "    )\n",
        "\n",
        "    model = AutoModelForCausalLM.from_pretrained(\n",
        "        model_name,\n",
        "        quantization_config = nf4_config,\n",
        "        low_cpu_mem_usage = True\n",
        "    )\n",
        "\n",
        "    tokenizer = AutoTokenizer.from_pretrained(model_name)\n",
        "\n",
        "    model_pipeline = pipeline(\n",
        "        \"text-generation\",\n",
        "        model = model,\n",
        "        tokenizer = tokenizer,\n",
        "        max_new_tokens = max_new_token,\n",
        "        pad_token_id = tokenizer.eos_token_id,\n",
        "        device_map = \"auto\"\n",
        "    )\n",
        "\n",
        "    llm = HuggingFacePipeline(pipeline = model_pipeline,)\n",
        "    return llm\n",
        "LLM = get_huggingface_llm()\n",
        "\n",
        "## Initialize welcome message\n",
        "welcome_message = \"\"\"\n",
        "Welcome to the PDF QA! to get started:\n",
        "1. Upload a PDF or text file\n",
        "2. Ask a question abou the file\n",
        "\"\"\"\n",
        "## Initialize on chat start\n",
        "\n",
        "@cl.on_chat_start\n",
        "async def on_chat_start():\n",
        "    files = None\n",
        "    while files in None:\n",
        "        files = await cl.AskFileMessage(\n",
        "            content = welcome_message,\n",
        "            accept = ['text/plain', 'application/pdf'],\n",
        "            max_size_mb = 20,\n",
        "            timeout = 180,\n",
        "        ).send()\n",
        "\n",
        "    file = files[0]\n",
        "\n",
        "    msg = cl.Message(content = f\"Processing {file.name}... \", disable_feelback = True)\n",
        "\n",
        "    await msg.send()\n",
        "\n",
        "    vector_db = await cl.make_async(get_vector_db)(file)\n",
        "    message_history = ChatMessageHistory()\n",
        "    memory = ConversationBufferMemory(\n",
        "        memory_key = \"chat_history\",\n",
        "        output_key = \"answer\",\n",
        "        chat_memory = message_history,\n",
        "        return_message = True,\n",
        "    )\n",
        "    retriever = vector_db.as_retriever(search_type = \"mmr\", search_kwargs = {'k': 3})\n",
        "\n",
        "    chain = ConversationalRetrievalChain.from_llm(\n",
        "        llm = LLM,\n",
        "        chain_type =\"stuff\",\n",
        "        retriever = retriever,\n",
        "        memory = memory,\n",
        "        return_source_documents = True\n",
        "    )\n",
        "\n",
        "    msg.content = f\"{file.name} proccesed. You can now ask question!\"\n",
        "    await msg.update()\n",
        "\n",
        "    cl.user_session.set(\"chain\", chain)\n",
        "\n",
        "## Initialize function on meassage\n",
        "@cl.on_message\n",
        "\n",
        "async def on_message(message: cl.Message):\n",
        "    chain = c1.user_session.get(\"chain\")\n",
        "    cb = c1.AsyncLangchainCallbackHander()\n",
        "    res = await chain.ainvoke(message.content, callbacks = [cb])\n",
        "    answer = res['answer']\n",
        "    source_documents = res['source_documents']\n",
        "    text_elements = []\n",
        "\n",
        "    if source_documents:\n",
        "        for source_idx, source_doc in enumerate(source_documents):\n",
        "            source_name = f\"source_{source_idx}\"\n",
        "            text_elements.append(\n",
        "                cl.Text(content = source_doc.page_content, name = source_name)\n",
        "            )\n",
        "\n",
        "        source_name = [text_el.name for text_el in text_elements]\n",
        "\n",
        "        if source_name:\n",
        "            answer += f\"\\nSources: {','.join(source_name)}\"\n",
        "        else:\n",
        "            answer += \"\\nNo source found\"\n",
        "\n",
        "    await cl.Message(content = answer, elements = text_elements).send()\n",
        "\n",
        "## run chainlit app\n",
        "!chainlit run app.py --host 0.0.0.0 --port 8000 &>/content/logs.txt &\n",
        "\n",
        "## Expose localhost tp public host = localtunnel\n",
        "import urllib\n",
        "\n",
        "print(\"Password/Enpoint IP for localtunnel is :\", urllib.request.urlopen('https://ipv4.icanhazip.com').read().decode(\"utf8\").strip('\\n'))\n",
        "\n",
        "!It --port 8000 --subdomain aivn-simple-rag"
      ],
      "metadata": {
        "id": "jRo1GvjXKPK_"
      },
      "execution_count": null,
      "outputs": []
    }
  ]
}